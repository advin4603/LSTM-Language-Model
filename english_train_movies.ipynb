{
 "cells": [
  {
   "cell_type": "code",
   "execution_count": 5,
   "metadata": {
    "ExecuteTime": {
     "end_time": "2023-06-07T17:56:55.145330Z",
     "start_time": "2023-06-07T17:54:44.519516Z"
    },
    "collapsed": true
   },
   "outputs": [
    {
     "name": "stdout",
     "output_type": "stream",
     "text": [
      "--2023-06-07 18:11:04--  https://snap.stanford.edu/data/amazon/productGraph/categoryFiles/reviews_Movies_and_TV.json.gz\n",
      "Resolving snap.stanford.edu (snap.stanford.edu)... 171.64.75.80\n",
      "Connecting to snap.stanford.edu (snap.stanford.edu)|171.64.75.80|:443... connected.\n",
      "HTTP request sent, awaiting response... 206 Partial Content\n",
      "Length: 1359979688 (1.3G), 1262265512 (1.2G) remaining [application/x-gzip]\n",
      "Saving to: ‘reviews_Movies_and_TV.json.gz’\n",
      "\n",
      "d_TV.json.gz         23%[+==>                ] 310.62M   130KB/s    eta 43m 43s^C\n"
     ]
    }
   ],
   "source": [
    "!wget -c \"https://snap.stanford.edu/data/amazon/productGraph/categoryFiles/reviews_Movies_and_TV.json.gz\""
   ]
  },
  {
   "cell_type": "code",
   "execution_count": 2,
   "metadata": {
    "ExecuteTime": {
     "end_time": "2023-06-07T17:54:14.373586Z",
     "start_time": "2023-06-07T17:54:14.246110Z"
    },
    "collapsed": false
   },
   "outputs": [
    {
     "name": "stdout",
     "output_type": "stream",
     "text": [
      "\r\n",
      "gzip: reviews_Movies_and_TV.json.gz: unexpected end of file\r\n"
     ]
    }
   ],
   "source": [
    "!gunzip reviews_Movies_and_TV.json.gz"
   ]
  },
  {
   "cell_type": "code",
   "execution_count": 3,
   "metadata": {
    "ExecuteTime": {
     "end_time": "2023-06-07T17:54:14.376006Z",
     "start_time": "2023-06-07T17:54:14.373954Z"
    },
    "collapsed": false
   },
   "outputs": [],
   "source": [
    "REVIEWS = 30_000\n",
    "TRAIN_COUNT, EVALUATE_COUNT = 20_000, 5_000\n",
    "TEST_COUNT = REVIEWS - TRAIN_COUNT - EVALUATE_COUNT\n",
    "\n",
    "MINIMUM_FREQUENCY = 5\n",
    "BATCH_SIZE = 64\n",
    "NUM_WORKERS = 12\n",
    "MAX_EPOCHS = 30\n",
    "LEARNING_RATE = 2e-5\n",
    "EMBEDDING_DIMENSIONS = 300\n",
    "HIDDEN_STATE_DIMENSIONS = 400\n",
    "STACKS = 2"
   ]
  },
  {
   "cell_type": "code",
   "execution_count": 4,
   "metadata": {
    "collapsed": false
   },
   "outputs": [
    {
     "ename": "FileNotFoundError",
     "evalue": "[Errno 2] No such file or directory: 'reviews_Movies_and_TV.json'",
     "output_type": "error",
     "traceback": [
      "\u001b[0;31m---------------------------------------------------------------------------\u001b[0m",
      "\u001b[0;31mFileNotFoundError\u001b[0m                         Traceback (most recent call last)",
      "Cell \u001b[0;32mIn[4], line 5\u001b[0m\n\u001b[1;32m      2\u001b[0m \u001b[38;5;28;01mfrom\u001b[39;00m \u001b[38;5;21;01mtqdm\u001b[39;00m \u001b[38;5;28;01mimport\u001b[39;00m tqdm\n\u001b[1;32m      3\u001b[0m \u001b[38;5;28;01mfrom\u001b[39;00m \u001b[38;5;21;01menglish_data\u001b[39;00m \u001b[38;5;28;01mimport\u001b[39;00m EnglishData\n\u001b[0;32m----> 5\u001b[0m \u001b[38;5;28;01mwith\u001b[39;00m \u001b[38;5;28;43mopen\u001b[39;49m\u001b[43m(\u001b[49m\u001b[38;5;124;43m\"\u001b[39;49m\u001b[38;5;124;43mreviews_Movies_and_TV.json\u001b[39;49m\u001b[38;5;124;43m\"\u001b[39;49m\u001b[43m)\u001b[49m \u001b[38;5;28;01mas\u001b[39;00m f:\n\u001b[1;32m      6\u001b[0m     train_reviews \u001b[38;5;241m=\u001b[39m (json\u001b[38;5;241m.\u001b[39mloads(\u001b[38;5;28mnext\u001b[39m(f))[\u001b[38;5;124m\"\u001b[39m\u001b[38;5;124mreviewText\u001b[39m\u001b[38;5;124m\"\u001b[39m] \u001b[38;5;28;01mfor\u001b[39;00m _ \u001b[38;5;129;01min\u001b[39;00m\n\u001b[1;32m      7\u001b[0m                      tqdm(\u001b[38;5;28mrange\u001b[39m(EVALUATE_COUNT), total\u001b[38;5;241m=\u001b[39mEVALUATE_COUNT, desc\u001b[38;5;241m=\u001b[39m\u001b[38;5;124m\"\u001b[39m\u001b[38;5;124mLoading Training Data\u001b[39m\u001b[38;5;124m\"\u001b[39m))\n\u001b[1;32m      8\u001b[0m     validate_reviews \u001b[38;5;241m=\u001b[39m (json\u001b[38;5;241m.\u001b[39mloads(\u001b[38;5;28mnext\u001b[39m(f))[\u001b[38;5;124m\"\u001b[39m\u001b[38;5;124mreviewText\u001b[39m\u001b[38;5;124m\"\u001b[39m] \u001b[38;5;28;01mfor\u001b[39;00m _ \u001b[38;5;129;01min\u001b[39;00m\n\u001b[1;32m      9\u001b[0m                         tqdm(\u001b[38;5;28mrange\u001b[39m(TRAIN_COUNT), total\u001b[38;5;241m=\u001b[39mTRAIN_COUNT, desc\u001b[38;5;241m=\u001b[39m\u001b[38;5;124m\"\u001b[39m\u001b[38;5;124mLoading Validation Data\u001b[39m\u001b[38;5;124m\"\u001b[39m))\n",
      "File \u001b[0;32m~/LSTMLanguageModel/venv/lib/python3.10/site-packages/IPython/core/interactiveshell.py:284\u001b[0m, in \u001b[0;36m_modified_open\u001b[0;34m(file, *args, **kwargs)\u001b[0m\n\u001b[1;32m    277\u001b[0m \u001b[38;5;28;01mif\u001b[39;00m file \u001b[38;5;129;01min\u001b[39;00m {\u001b[38;5;241m0\u001b[39m, \u001b[38;5;241m1\u001b[39m, \u001b[38;5;241m2\u001b[39m}:\n\u001b[1;32m    278\u001b[0m     \u001b[38;5;28;01mraise\u001b[39;00m \u001b[38;5;167;01mValueError\u001b[39;00m(\n\u001b[1;32m    279\u001b[0m         \u001b[38;5;124mf\u001b[39m\u001b[38;5;124m\"\u001b[39m\u001b[38;5;124mIPython won\u001b[39m\u001b[38;5;124m'\u001b[39m\u001b[38;5;124mt let you open fd=\u001b[39m\u001b[38;5;132;01m{\u001b[39;00mfile\u001b[38;5;132;01m}\u001b[39;00m\u001b[38;5;124m by default \u001b[39m\u001b[38;5;124m\"\u001b[39m\n\u001b[1;32m    280\u001b[0m         \u001b[38;5;124m\"\u001b[39m\u001b[38;5;124mas it is likely to crash IPython. If you know what you are doing, \u001b[39m\u001b[38;5;124m\"\u001b[39m\n\u001b[1;32m    281\u001b[0m         \u001b[38;5;124m\"\u001b[39m\u001b[38;5;124myou can use builtins\u001b[39m\u001b[38;5;124m'\u001b[39m\u001b[38;5;124m open.\u001b[39m\u001b[38;5;124m\"\u001b[39m\n\u001b[1;32m    282\u001b[0m     )\n\u001b[0;32m--> 284\u001b[0m \u001b[38;5;28;01mreturn\u001b[39;00m \u001b[43mio_open\u001b[49m\u001b[43m(\u001b[49m\u001b[43mfile\u001b[49m\u001b[43m,\u001b[49m\u001b[43m \u001b[49m\u001b[38;5;241;43m*\u001b[39;49m\u001b[43margs\u001b[49m\u001b[43m,\u001b[49m\u001b[43m \u001b[49m\u001b[38;5;241;43m*\u001b[39;49m\u001b[38;5;241;43m*\u001b[39;49m\u001b[43mkwargs\u001b[49m\u001b[43m)\u001b[49m\n",
      "\u001b[0;31mFileNotFoundError\u001b[0m: [Errno 2] No such file or directory: 'reviews_Movies_and_TV.json'"
     ]
    }
   ],
   "source": [
    "import json\n",
    "from tqdm import tqdm\n",
    "from english_data import EnglishData\n",
    "\n",
    "with open(\"reviews_Movies_and_TV.json\") as f:\n",
    "    train_reviews = (json.loads(next(f))[\"reviewText\"] for _ in\n",
    "                     tqdm(range(EVALUATE_COUNT), total=EVALUATE_COUNT, desc=\"Loading Training Data\"))\n",
    "    validate_reviews = (json.loads(next(f))[\"reviewText\"] for _ in\n",
    "                        tqdm(range(TRAIN_COUNT), total=TRAIN_COUNT, desc=\"Loading Validation Data\"))\n",
    "\n",
    "    test_reviews = (json.loads(next(f))[\"reviewText\"] for _ in\n",
    "                    tqdm(range(TEST_COUNT), total=TEST_COUNT, desc=\"Loading Testing Data\"))\n",
    "\n",
    "    train_dataset = EnglishData(train_reviews, MINIMUM_FREQUENCY)\n",
    "    vocabulary = train_dataset.vocabulary\n",
    "    validate_dataset = EnglishData(validate_reviews, vocabulary=vocabulary)\n",
    "    test_dataset = EnglishData(test_reviews, vocabulary=vocabulary)\n"
   ]
  },
  {
   "cell_type": "code",
   "execution_count": null,
   "metadata": {
    "collapsed": false
   },
   "outputs": [],
   "source": [
    "from torch.utils.data import DataLoader\n",
    "train_dataloader = DataLoader(train_dataset, collate_fn=train_dataset.collate, batch_size=BATCH_SIZE, num_workers=NUM_WORKERS)\n",
    "validation_dataloader = DataLoader(validate_dataset, collate_fn=validate_dataset.collate, batch_size=BATCH_SIZE, num_workers=NUM_WORKERS)\n",
    "test_dataloader = DataLoader(test_dataset, collate_fn=test_dataset.collate, batch_size=BATCH_SIZE, num_workers=NUM_WORKERS)"
   ]
  },
  {
   "cell_type": "code",
   "execution_count": null,
   "metadata": {},
   "outputs": [],
   "source": [
    "from lightning.pytorch.callbacks import RichProgressBar\n",
    "import lightning.pytorch as pl\n",
    "trainer = pl.Trainer(default_root_dir=\"english_train_movies\", max_epochs=MAX_EPOCHS, callbacks=[RichProgressBar()])"
   ]
  },
  {
   "cell_type": "code",
   "execution_count": null,
   "metadata": {},
   "outputs": [],
   "source": [
    "from language_model import LitLSTMLanguageModel\n",
    "model = LitLSTMLanguageModel(LEARNING_RATE, len(vocabulary.get_itos()), EMBEDDING_DIMENSIONS, HIDDEN_STATE_DIMENSIONS, STACKS)"
   ]
  },
  {
   "cell_type": "code",
   "execution_count": null,
   "metadata": {},
   "outputs": [],
   "source": [
    "trainer.fit(model=model, train_dataloaders=train_dataloader, val_dataloaders=validation_dataloader)"
   ]
  },
  {
   "cell_type": "code",
   "execution_count": null,
   "metadata": {},
   "outputs": [],
   "source": [
    "trainer.test(model=model, dataloaders=test_dataloader)"
   ]
  },
  {
   "cell_type": "code",
   "execution_count": null,
   "metadata": {},
   "outputs": [],
   "source": [
    "trainer.save_checkpoint(\"english_movies_lm.ckpt\")"
   ]
  }
 ],
 "metadata": {
  "kernelspec": {
   "display_name": "Python 3",
   "language": "python",
   "name": "python3"
  },
  "language_info": {
   "codemirror_mode": {
    "name": "ipython",
    "version": 3
   },
   "file_extension": ".py",
   "mimetype": "text/x-python",
   "name": "python",
   "nbconvert_exporter": "python",
   "pygments_lexer": "ipython3",
   "version": "3.10.6"
  }
 },
 "nbformat": 4,
 "nbformat_minor": 0
}
